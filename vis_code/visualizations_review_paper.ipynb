{
 "cells": [
  {
   "cell_type": "code",
   "execution_count": 1,
   "metadata": {},
   "outputs": [],
   "source": [
    "import altair as alt\n",
    "import pandas as pd\n",
    "from io import StringIO\n",
    "import vl_convert as vlc"
   ]
  },
  {
   "cell_type": "code",
   "execution_count": 5,
   "metadata": {},
   "outputs": [
    {
     "data": {
      "text/html": [
       "\n",
       "<style>\n",
       "  #altair-viz-bf2a620b45c7474387faaf4b347b551a.vega-embed {\n",
       "    width: 100%;\n",
       "    display: flex;\n",
       "  }\n",
       "\n",
       "  #altair-viz-bf2a620b45c7474387faaf4b347b551a.vega-embed details,\n",
       "  #altair-viz-bf2a620b45c7474387faaf4b347b551a.vega-embed details summary {\n",
       "    position: relative;\n",
       "  }\n",
       "</style>\n",
       "<div id=\"altair-viz-bf2a620b45c7474387faaf4b347b551a\"></div>\n",
       "<script type=\"text/javascript\">\n",
       "  var VEGA_DEBUG = (typeof VEGA_DEBUG == \"undefined\") ? {} : VEGA_DEBUG;\n",
       "  (function(spec, embedOpt){\n",
       "    let outputDiv = document.currentScript.previousElementSibling;\n",
       "    if (outputDiv.id !== \"altair-viz-bf2a620b45c7474387faaf4b347b551a\") {\n",
       "      outputDiv = document.getElementById(\"altair-viz-bf2a620b45c7474387faaf4b347b551a\");\n",
       "    }\n",
       "    const paths = {\n",
       "      \"vega\": \"https://cdn.jsdelivr.net/npm/vega@5?noext\",\n",
       "      \"vega-lib\": \"https://cdn.jsdelivr.net/npm/vega-lib?noext\",\n",
       "      \"vega-lite\": \"https://cdn.jsdelivr.net/npm/vega-lite@5.8.0?noext\",\n",
       "      \"vega-embed\": \"https://cdn.jsdelivr.net/npm/vega-embed@6?noext\",\n",
       "    };\n",
       "\n",
       "    function maybeLoadScript(lib, version) {\n",
       "      var key = `${lib.replace(\"-\", \"\")}_version`;\n",
       "      return (VEGA_DEBUG[key] == version) ?\n",
       "        Promise.resolve(paths[lib]) :\n",
       "        new Promise(function(resolve, reject) {\n",
       "          var s = document.createElement('script');\n",
       "          document.getElementsByTagName(\"head\")[0].appendChild(s);\n",
       "          s.async = true;\n",
       "          s.onload = () => {\n",
       "            VEGA_DEBUG[key] = version;\n",
       "            return resolve(paths[lib]);\n",
       "          };\n",
       "          s.onerror = () => reject(`Error loading script: ${paths[lib]}`);\n",
       "          s.src = paths[lib];\n",
       "        });\n",
       "    }\n",
       "\n",
       "    function showError(err) {\n",
       "      outputDiv.innerHTML = `<div class=\"error\" style=\"color:red;\">${err}</div>`;\n",
       "      throw err;\n",
       "    }\n",
       "\n",
       "    function displayChart(vegaEmbed) {\n",
       "      vegaEmbed(outputDiv, spec, embedOpt)\n",
       "        .catch(err => showError(`Javascript Error: ${err.message}<br>This usually means there's a typo in your chart specification. See the javascript console for the full traceback.`));\n",
       "    }\n",
       "\n",
       "    if(typeof define === \"function\" && define.amd) {\n",
       "      requirejs.config({paths});\n",
       "      require([\"vega-embed\"], displayChart, err => showError(`Error loading script: ${err.message}`));\n",
       "    } else {\n",
       "      maybeLoadScript(\"vega\", \"5\")\n",
       "        .then(() => maybeLoadScript(\"vega-lite\", \"5.8.0\"))\n",
       "        .then(() => maybeLoadScript(\"vega-embed\", \"6\"))\n",
       "        .catch(showError)\n",
       "        .then(() => displayChart(vegaEmbed));\n",
       "    }\n",
       "  })({\"config\": {\"view\": {\"continuousWidth\": 300, \"continuousHeight\": 300, \"strokeOpacity\": 0}}, \"layer\": [{\"mark\": {\"type\": \"bar\", \"size\": 50}, \"encoding\": {\"color\": {\"field\": \"Category\", \"legend\": {\"direction\": \"horizontal\", \"legendX\": 140, \"legendY\": 70, \"orient\": \"none\", \"title\": null}, \"scale\": {\"domain\": [\"Physicochemical Properties\", \"Sequence\", \"Miss Cleavage\"], \"range\": [\"#AAAAAA\", \"#555555\", \"#000000\"]}, \"type\": \"nominal\"}, \"order\": {\"field\": \"Percentage\", \"sort\": \"descending\", \"type\": \"quantitative\"}, \"x\": {\"axis\": null, \"field\": \"Percentage\", \"stack\": \"normalize\", \"type\": \"quantitative\"}}}, {\"mark\": {\"type\": \"text\", \"size\": 12}, \"encoding\": {\"color\": {\"field\": \"Midpoints\", \"legend\": null, \"scale\": {\"domain\": [0.2835, 0.717, 0.9335], \"range\": [\"#000000\", \"#FFFFFF\", \"#FFFFFF\"]}, \"type\": \"quantitative\"}, \"text\": {\"field\": \"comb\", \"type\": \"nominal\"}, \"x\": {\"field\": \"Midpoints\", \"type\": \"quantitative\"}}}], \"data\": {\"name\": \"data-5fac258814164ff5624415e1cb2c4042\"}, \"height\": 50, \"width\": 600, \"$schema\": \"https://vega.github.io/schema/vega-lite/v5.8.0.json\", \"datasets\": {\"data-5fac258814164ff5624415e1cb2c4042\": [{\"Category\": \"Physicochemical Properties\", \"Percentage\": 0.567, \"Numbers\": 17, \"comb\": \"(17) 56.7%\", \"Midpoints\": 0.2835}, {\"Category\": \"Sequence\", \"Percentage\": 0.3, \"Numbers\": 9, \"comb\": \"(9) 30%\", \"Midpoints\": 0.717}, {\"Category\": \"Miss Cleavage\", \"Percentage\": 0.133, \"Numbers\": 4, \"comb\": \"(4) 13.3%\", \"Midpoints\": 0.9335}]}}, {\"mode\": \"vega-lite\"});\n",
       "</script>"
      ],
      "text/plain": [
       "alt.LayerChart(...)"
      ]
     },
     "execution_count": 5,
     "metadata": {},
     "output_type": "execute_result"
    }
   ],
   "source": [
    "import sys\n",
    "data = pd.DataFrame({\n",
    "    'Category': ['Physicochemical Properties', 'Sequence', 'Miss Cleavage'],\n",
    "    'Percentage': [0.567, 0.3, 0.133],\n",
    "    'Numbers': [17, 9, 4],\n",
    "    'comb': [\"(17) 56.7%\", \"(9) 30%\", \"(4) 13.3%\"]\n",
    "})\n",
    "#'Percentage': [0.533, 0.333, 0.133]\n",
    "#'Percentage': [16, 10, 4]\n",
    "\n",
    "midpoints = []\n",
    "prev = 0\n",
    "for i in data['Percentage'].to_list():\n",
    "    midpoint = prev + (i/2)\n",
    "    midpoints.append(midpoint)\n",
    "    prev = prev + i\n",
    "data[\"Midpoints\"] = midpoints\n",
    "\n",
    "# Define the color scheme with a palette of gray and black\n",
    "color_scale_bar = alt.Scale(\n",
    "    domain=['Physicochemical Properties', 'Sequence', 'Miss Cleavage'],\n",
    "    range=['#AAAAAA', '#555555', '#000000']  # Black, dark gray, and light gray\n",
    ")\n",
    "color_scale_text = alt.Scale(\n",
    "    domain=data['Midpoints'].to_list(),\n",
    "    range=['#000000', '#FFFFFF', '#FFFFFF']  # Black, dark gray, and light gray\n",
    ")\n",
    "# Create the horizontal stacked bar chart\n",
    "stacked_bar_chart = alt.Chart(data).mark_bar(size=50).encode(\n",
    "    x=alt.X('Percentage:Q', stack='normalize', axis=None),\n",
    "    color=alt.Color('Category:N', scale=color_scale_bar, legend=alt.Legend(orient='none', legendX=140, legendY=70, title=None, direction='horizontal')), #columnPadding=-30\n",
    "    order=alt.Order('Percentage:Q', sort='descending')\n",
    ")\n",
    "\n",
    "white_text = alt.Chart(data).mark_text(size=12).encode(#color='white'\n",
    "    x=alt.X('Midpoints:Q'),\n",
    "    text=alt.Text('comb:N'),#, format=\".1%\"),#comment the format out when you go for total numbers\n",
    "    color=alt.Color('Midpoints:Q', scale=color_scale_text, legend=None)\n",
    ")\n",
    "\n",
    "final_chart = (stacked_bar_chart+white_text).properties(width=600, height=50).configure_view(strokeOpacity=0)\n",
    "#final_chart.save(\"path/to/bar_chart_features_total_percent.svg\")\n",
    "final_chart"
   ]
  },
  {
   "cell_type": "code",
   "execution_count": 2,
   "metadata": {},
   "outputs": [
    {
     "data": {
      "text/html": [
       "\n",
       "<style>\n",
       "  #altair-viz-f20d71500c4d4b49875e9b7c19459557.vega-embed {\n",
       "    width: 100%;\n",
       "    display: flex;\n",
       "  }\n",
       "\n",
       "  #altair-viz-f20d71500c4d4b49875e9b7c19459557.vega-embed details,\n",
       "  #altair-viz-f20d71500c4d4b49875e9b7c19459557.vega-embed details summary {\n",
       "    position: relative;\n",
       "  }\n",
       "</style>\n",
       "<div id=\"altair-viz-f20d71500c4d4b49875e9b7c19459557\"></div>\n",
       "<script type=\"text/javascript\">\n",
       "  var VEGA_DEBUG = (typeof VEGA_DEBUG == \"undefined\") ? {} : VEGA_DEBUG;\n",
       "  (function(spec, embedOpt){\n",
       "    let outputDiv = document.currentScript.previousElementSibling;\n",
       "    if (outputDiv.id !== \"altair-viz-f20d71500c4d4b49875e9b7c19459557\") {\n",
       "      outputDiv = document.getElementById(\"altair-viz-f20d71500c4d4b49875e9b7c19459557\");\n",
       "    }\n",
       "    const paths = {\n",
       "      \"vega\": \"https://cdn.jsdelivr.net/npm/vega@5?noext\",\n",
       "      \"vega-lib\": \"https://cdn.jsdelivr.net/npm/vega-lib?noext\",\n",
       "      \"vega-lite\": \"https://cdn.jsdelivr.net/npm/vega-lite@5.8.0?noext\",\n",
       "      \"vega-embed\": \"https://cdn.jsdelivr.net/npm/vega-embed@6?noext\",\n",
       "    };\n",
       "\n",
       "    function maybeLoadScript(lib, version) {\n",
       "      var key = `${lib.replace(\"-\", \"\")}_version`;\n",
       "      return (VEGA_DEBUG[key] == version) ?\n",
       "        Promise.resolve(paths[lib]) :\n",
       "        new Promise(function(resolve, reject) {\n",
       "          var s = document.createElement('script');\n",
       "          document.getElementsByTagName(\"head\")[0].appendChild(s);\n",
       "          s.async = true;\n",
       "          s.onload = () => {\n",
       "            VEGA_DEBUG[key] = version;\n",
       "            return resolve(paths[lib]);\n",
       "          };\n",
       "          s.onerror = () => reject(`Error loading script: ${paths[lib]}`);\n",
       "          s.src = paths[lib];\n",
       "        });\n",
       "    }\n",
       "\n",
       "    function showError(err) {\n",
       "      outputDiv.innerHTML = `<div class=\"error\" style=\"color:red;\">${err}</div>`;\n",
       "      throw err;\n",
       "    }\n",
       "\n",
       "    function displayChart(vegaEmbed) {\n",
       "      vegaEmbed(outputDiv, spec, embedOpt)\n",
       "        .catch(err => showError(`Javascript Error: ${err.message}<br>This usually means there's a typo in your chart specification. See the javascript console for the full traceback.`));\n",
       "    }\n",
       "\n",
       "    if(typeof define === \"function\" && define.amd) {\n",
       "      requirejs.config({paths});\n",
       "      require([\"vega-embed\"], displayChart, err => showError(`Error loading script: ${err.message}`));\n",
       "    } else {\n",
       "      maybeLoadScript(\"vega\", \"5\")\n",
       "        .then(() => maybeLoadScript(\"vega-lite\", \"5.8.0\"))\n",
       "        .then(() => maybeLoadScript(\"vega-embed\", \"6\"))\n",
       "        .catch(showError)\n",
       "        .then(() => displayChart(vegaEmbed));\n",
       "    }\n",
       "  })({\"config\": {\"view\": {\"continuousWidth\": 300, \"continuousHeight\": 300}}, \"layer\": [{\"mark\": {\"type\": \"bar\", \"size\": 50, \"stroke\": \"gray\"}, \"encoding\": {\"color\": {\"field\": \"Category\", \"legend\": null, \"scale\": {\"domain\": [\"Traditional Machine Learning\", \"Deep Learning\"], \"range\": [\"#FFFFFF\", \"#000000\"]}, \"type\": \"nominal\"}, \"order\": {\"field\": \"Percentage\", \"sort\": \"descending\", \"type\": \"quantitative\"}, \"x\": {\"axis\": null, \"field\": \"Percentage\", \"stack\": \"normalize\", \"type\": \"quantitative\"}}}, {\"mark\": {\"type\": \"text\", \"size\": 12}, \"encoding\": {\"color\": {\"field\": \"Midpoints\", \"legend\": null, \"scale\": {\"domain\": [0.3045, 0.8045], \"range\": [\"#000000\", \"#FFFFFF\"]}, \"type\": \"quantitative\"}, \"text\": {\"field\": \"Percentage\", \"format\": \".1%\", \"type\": \"quantitative\"}, \"x\": {\"field\": \"Midpoints\", \"type\": \"quantitative\"}}}], \"data\": {\"name\": \"data-817e10495590f5fbd8af44472c85e194\"}, \"height\": 60, \"width\": 900, \"$schema\": \"https://vega.github.io/schema/vega-lite/v5.8.0.json\", \"datasets\": {\"data-817e10495590f5fbd8af44472c85e194\": [{\"Category\": \"Traditional Machine Learning\", \"Percentage\": 0.609, \"Numbers\": 14, \"Midpoints\": 0.3045}, {\"Category\": \"Deep Learning\", \"Percentage\": 0.391, \"Numbers\": 9, \"Midpoints\": 0.8045}]}}, {\"mode\": \"vega-lite\"});\n",
       "</script>"
      ],
      "text/plain": [
       "alt.LayerChart(...)"
      ]
     },
     "execution_count": 2,
     "metadata": {},
     "output_type": "execute_result"
    }
   ],
   "source": [
    "import sys\n",
    "data = pd.DataFrame({\n",
    "    'Category': ['Traditional Machine Learning', 'Deep Learning'],\n",
    "    'Percentage': [0.609, 0.391],\n",
    "    'Numbers': [14, 9]\n",
    "})\n",
    "#'Percentage': [0.533, 0.333, 0.133]\n",
    "#'Percentage': [16, 10, 4]\n",
    "\n",
    "midpoints = []\n",
    "prev = 0\n",
    "for i in data['Percentage'].to_list():\n",
    "    midpoint = prev + (i/2)\n",
    "    midpoints.append(midpoint)\n",
    "    prev = prev + i\n",
    "data[\"Midpoints\"] = midpoints\n",
    "\n",
    "# Define the color scheme with a palette of gray and black\n",
    "color_scale_bar = alt.Scale(\n",
    "    domain=['Traditional Machine Learning', 'Deep Learning'],\n",
    "    range=['#FFFFFF', '#000000']  # Black, dark gray, and light gray\n",
    ")\n",
    "color_scale_text = alt.Scale(\n",
    "    domain=data['Midpoints'].to_list(),\n",
    "    range=['#000000', '#FFFFFF']  # Black, dark gray, and light gray\n",
    ")\n",
    "# Create the horizontal stacked bar chart\n",
    "stacked_bar_chart = alt.Chart(data).mark_bar(size=50, stroke=\"gray\").encode(\n",
    "    x=alt.X('Percentage:Q', stack='normalize', axis=None),\n",
    "    color=alt.Color('Category:N', scale=color_scale_bar, legend=None),#, legend=alt.Legend(orient='bottom', title=None, columnPadding=30)),\n",
    "    order=alt.Order('Percentage:Q', sort='descending')\n",
    ")\n",
    "\n",
    "white_text = alt.Chart(data).mark_text(size=12).encode(#color='white'\n",
    "    x=alt.X('Midpoints:Q'),\n",
    "    text=alt.Text('Percentage:Q', format=\".1%\"),#comment the format out when you go for total numbers\n",
    "    color=alt.Color('Midpoints:Q', scale=color_scale_text, legend=None)\n",
    ")\n",
    "\n",
    "comb_chart = (stacked_bar_chart+white_text).properties(width=900, height=60)#.configure_view(strokeOpacity=1)\n",
    "#comb_chart.save(\"Path/to/method_bar.svg\")\n",
    "comb_chart"
   ]
  },
  {
   "cell_type": "code",
   "execution_count": 6,
   "metadata": {},
   "outputs": [
    {
     "data": {
      "text/html": [
       "\n",
       "<style>\n",
       "  #altair-viz-70c02f0ff1304bbb8a8098090912df32.vega-embed {\n",
       "    width: 100%;\n",
       "    display: flex;\n",
       "  }\n",
       "\n",
       "  #altair-viz-70c02f0ff1304bbb8a8098090912df32.vega-embed details,\n",
       "  #altair-viz-70c02f0ff1304bbb8a8098090912df32.vega-embed details summary {\n",
       "    position: relative;\n",
       "  }\n",
       "</style>\n",
       "<div id=\"altair-viz-70c02f0ff1304bbb8a8098090912df32\"></div>\n",
       "<script type=\"text/javascript\">\n",
       "  var VEGA_DEBUG = (typeof VEGA_DEBUG == \"undefined\") ? {} : VEGA_DEBUG;\n",
       "  (function(spec, embedOpt){\n",
       "    let outputDiv = document.currentScript.previousElementSibling;\n",
       "    if (outputDiv.id !== \"altair-viz-70c02f0ff1304bbb8a8098090912df32\") {\n",
       "      outputDiv = document.getElementById(\"altair-viz-70c02f0ff1304bbb8a8098090912df32\");\n",
       "    }\n",
       "    const paths = {\n",
       "      \"vega\": \"https://cdn.jsdelivr.net/npm/vega@5?noext\",\n",
       "      \"vega-lib\": \"https://cdn.jsdelivr.net/npm/vega-lib?noext\",\n",
       "      \"vega-lite\": \"https://cdn.jsdelivr.net/npm/vega-lite@5.8.0?noext\",\n",
       "      \"vega-embed\": \"https://cdn.jsdelivr.net/npm/vega-embed@6?noext\",\n",
       "    };\n",
       "\n",
       "    function maybeLoadScript(lib, version) {\n",
       "      var key = `${lib.replace(\"-\", \"\")}_version`;\n",
       "      return (VEGA_DEBUG[key] == version) ?\n",
       "        Promise.resolve(paths[lib]) :\n",
       "        new Promise(function(resolve, reject) {\n",
       "          var s = document.createElement('script');\n",
       "          document.getElementsByTagName(\"head\")[0].appendChild(s);\n",
       "          s.async = true;\n",
       "          s.onload = () => {\n",
       "            VEGA_DEBUG[key] = version;\n",
       "            return resolve(paths[lib]);\n",
       "          };\n",
       "          s.onerror = () => reject(`Error loading script: ${paths[lib]}`);\n",
       "          s.src = paths[lib];\n",
       "        });\n",
       "    }\n",
       "\n",
       "    function showError(err) {\n",
       "      outputDiv.innerHTML = `<div class=\"error\" style=\"color:red;\">${err}</div>`;\n",
       "      throw err;\n",
       "    }\n",
       "\n",
       "    function displayChart(vegaEmbed) {\n",
       "      vegaEmbed(outputDiv, spec, embedOpt)\n",
       "        .catch(err => showError(`Javascript Error: ${err.message}<br>This usually means there's a typo in your chart specification. See the javascript console for the full traceback.`));\n",
       "    }\n",
       "\n",
       "    if(typeof define === \"function\" && define.amd) {\n",
       "      requirejs.config({paths});\n",
       "      require([\"vega-embed\"], displayChart, err => showError(`Error loading script: ${err.message}`));\n",
       "    } else {\n",
       "      maybeLoadScript(\"vega\", \"5\")\n",
       "        .then(() => maybeLoadScript(\"vega-lite\", \"5.8.0\"))\n",
       "        .then(() => maybeLoadScript(\"vega-embed\", \"6\"))\n",
       "        .catch(showError)\n",
       "        .then(() => displayChart(vegaEmbed));\n",
       "    }\n",
       "  })({\"config\": {\"view\": {\"continuousWidth\": 300, \"continuousHeight\": 300}}, \"data\": {\"name\": \"data-dfd5a0eba7b7d992c87a25340a74e85b\"}, \"mark\": {\"type\": \"bar\", \"stroke\": \"gray\"}, \"encoding\": {\"color\": {\"field\": \"Category\", \"legend\": {\"columnPadding\": 30, \"orient\": \"bottom\", \"title\": null}, \"scale\": {\"domain\": [\"Traditional Machine Learning\", \"Deep Learning\"], \"range\": [\"white\", \"black\"]}, \"type\": \"nominal\"}, \"order\": {\"sort\": \"ascending\"}, \"x\": {\"axis\": {\"labelAngle\": -45}, \"field\": \"Year\", \"title\": \"Year\", \"type\": \"ordinal\"}, \"y\": {\"field\": \"Occurrences\", \"title\": \"Cumulative Occurrences\", \"type\": \"quantitative\"}}, \"height\": 250, \"width\": 450, \"$schema\": \"https://vega.github.io/schema/vega-lite/v5.8.0.json\", \"datasets\": {\"data-dfd5a0eba7b7d992c87a25340a74e85b\": [{\"Year\": 2006, \"Category\": \"Traditional Machine Learning\", \"Occurrences\": 1}, {\"Year\": 2007, \"Category\": \"Traditional Machine Learning\", \"Occurrences\": 3}, {\"Year\": 2008, \"Category\": \"Traditional Machine Learning\", \"Occurrences\": 5}, {\"Year\": 2009, \"Category\": \"Traditional Machine Learning\", \"Occurrences\": 6}, {\"Year\": 2010, \"Category\": \"Traditional Machine Learning\", \"Occurrences\": 7}, {\"Year\": 2011, \"Category\": \"Traditional Machine Learning\", \"Occurrences\": 8}, {\"Year\": 2014, \"Category\": \"Traditional Machine Learning\", \"Occurrences\": 9}, {\"Year\": 2015, \"Category\": \"Traditional Machine Learning\", \"Occurrences\": 11}, {\"Year\": 2017, \"Category\": \"Traditional Machine Learning\", \"Occurrences\": 12}, {\"Year\": 2018, \"Category\": \"Traditional Machine Learning\", \"Occurrences\": 12}, {\"Year\": 2019, \"Category\": \"Traditional Machine Learning\", \"Occurrences\": 13}, {\"Year\": 2020, \"Category\": \"Traditional Machine Learning\", \"Occurrences\": 13}, {\"Year\": 2021, \"Category\": \"Traditional Machine Learning\", \"Occurrences\": 13}, {\"Year\": 2022, \"Category\": \"Traditional Machine Learning\", \"Occurrences\": 13}, {\"Year\": 2023, \"Category\": \"Traditional Machine Learning\", \"Occurrences\": 14}, {\"Year\": 2024, \"Category\": \"Traditional Machine Learning\", \"Occurrences\": 14}, {\"Year\": 2006, \"Category\": \"Deep Learning\", \"Occurrences\": 0}, {\"Year\": 2007, \"Category\": \"Deep Learning\", \"Occurrences\": 0}, {\"Year\": 2008, \"Category\": \"Deep Learning\", \"Occurrences\": 0}, {\"Year\": 2009, \"Category\": \"Deep Learning\", \"Occurrences\": 0}, {\"Year\": 2010, \"Category\": \"Deep Learning\", \"Occurrences\": 0}, {\"Year\": 2011, \"Category\": \"Deep Learning\", \"Occurrences\": 0}, {\"Year\": 2014, \"Category\": \"Deep Learning\", \"Occurrences\": 0}, {\"Year\": 2015, \"Category\": \"Deep Learning\", \"Occurrences\": 0}, {\"Year\": 2017, \"Category\": \"Deep Learning\", \"Occurrences\": 0}, {\"Year\": 2018, \"Category\": \"Deep Learning\", \"Occurrences\": 1}, {\"Year\": 2019, \"Category\": \"Deep Learning\", \"Occurrences\": 1}, {\"Year\": 2020, \"Category\": \"Deep Learning\", \"Occurrences\": 3}, {\"Year\": 2021, \"Category\": \"Deep Learning\", \"Occurrences\": 5}, {\"Year\": 2022, \"Category\": \"Deep Learning\", \"Occurrences\": 6}, {\"Year\": 2023, \"Category\": \"Deep Learning\", \"Occurrences\": 8}, {\"Year\": 2024, \"Category\": \"Deep Learning\", \"Occurrences\": 9}]}}, {\"mode\": \"vega-lite\"});\n",
       "</script>"
      ],
      "text/plain": [
       "alt.Chart(...)"
      ]
     },
     "execution_count": 6,
     "metadata": {},
     "output_type": "execute_result"
    }
   ],
   "source": [
    "data_str = \"\"\"Year\\tTitle\\tCategory\n",
    "2006\\tA computational approach toward label-free protein quantification using predicted peptide detectability:\\tM\n",
    "2007\\tPrediction of peptides observable by mass spectrometry applied at the experimental set level\\tM\n",
    "2007\\tPeptideSieve\\tM\n",
    "2008\\tAPEX\\tM\n",
    "2008\\tA support vector machine model for the prediction of proteotypic peptides for accurate mass and time proteomics\\tM\n",
    "2009\\tESPPredictor\\tM\n",
    "2010\\tThe Importance of Peptide Detectability for Protein Identification, Quantification, and Experiment Design in MS/MS Proteomics\\tM\n",
    "2011\\tCONSeQuence\\tM\n",
    "2014\\tPeptideRank\\tM\n",
    "2015\\tPPA\\tM\n",
    "2015\\tPREGO\\tM\n",
    "2017\\tEnhanced Missing Proteins Detection in NCI60 Cell Lines Using an Integrative Search Engine Approach\\tM\n",
    "2018\\td::pPop\\tD\n",
    "2019\\tAP3\\tM\n",
    "2020\\tDeepMSPeptide\\tD\n",
    "2020\\tIn silico spectral libraries by deep learning facilitate data-Independant aquisition proteomics\\tD\n",
    "2021\\tPepFormer\\tD\n",
    "2021\\tCapsNet\\tD\n",
    "2022\\tPD-BertEDL\\tD\n",
    "2023\\tDeepDetect\\tD\n",
    "2023\\tDbyDeep\\tD\n",
    "2023\\tPeptideRanger\\tM\n",
    "2024\\tKDEAN\\tD\"\"\"\n",
    "\n",
    "# Read data into DataFrame\n",
    "data = pd.read_csv(StringIO(data_str), sep='\\t')\n",
    "\n",
    "# Count occurrences of 'M' and 'D' for each year\n",
    "counts = data.groupby(['Year', 'Category']).size().unstack(fill_value=0).reset_index()\n",
    "\n",
    "# Create cumulative sum\n",
    "counts[['Traditional Machine Learning', 'Deep Learning']] = counts[['M', 'D']].cumsum()\n",
    "\n",
    "# Melt DataFrame for Altair\n",
    "counts_melted = counts.melt(id_vars='Year', value_vars=['Traditional Machine Learning', 'Deep Learning'], var_name='Category', value_name='Occurrences')\n",
    "\n",
    "# Create the stacked bar chart\n",
    "stacked_bar_chart_new = alt.Chart(counts_melted).mark_bar(stroke=\"gray\").encode(\n",
    "    x=alt.X('Year:O', title='Year', axis=alt.Axis(labelAngle=-45)),\n",
    "    y=alt.Y('Occurrences:Q', title='Cumulative Occurrences'),\n",
    "    color=alt.Color('Category:N', scale=alt.Scale(domain=['Traditional Machine Learning', 'Deep Learning'], range=['white', 'black']), legend=alt.Legend(orient=\"bottom\", title=None, columnPadding=30)),\n",
    "    order=alt.Order(sort='ascending') # for swap back of the old and new one: order=alt.Order('Category:N', sort='ascending')\n",
    ").properties(\n",
    "    width=450,\n",
    "    height=250,\n",
    ")\n",
    "\n",
    "# Display the chart\n",
    "#stacked_bar_chart_new.save(\"Path/to/M_D_occurences_swapped.svg\") #on my windows\n",
    "stacked_bar_chart_new"
   ]
  },
  {
   "cell_type": "code",
   "execution_count": 7,
   "metadata": {},
   "outputs": [
    {
     "data": {
      "application/vnd.plotly.v1+json": {
       "config": {
        "plotlyServerURL": "https://plot.ly"
       },
       "data": [
        {
         "branchvalues": "total",
         "customdata": [
          [
           0.1304
          ],
          [
           0.0435
          ],
          [
           0.087
          ],
          [
           0.0435
          ],
          [
           0.0435
          ],
          [
           0.0435
          ],
          [
           0.0435
          ],
          [
           0.21739999999999998
          ],
          [
           0.21739999999999998
          ],
          [
           0.0435
          ],
          [
           0.08072654402102494
          ],
          [
           0.17391429040735873
          ],
          [
           0.14285170827858085
          ]
         ],
         "domain": {
          "x": [
           0,
           1
          ],
          "y": [
           0,
           1
          ]
         },
         "hovertemplate": "labels=%{label}<br>Percentage_sum=%{value}<br>parent=%{parent}<br>id=%{id}<br>Percentage=%{color}<extra></extra>",
         "ids": [
          "Machine Learning/Deep Learning/Bidirectional<br>Long<br>Short-Term<br>Memory Network",
          "Machine Learning/Deep Learning/Convolutional<br>Neural Network",
          "Machine Learning/Traditional Machine Learning/Ensemble of<br>different<br>Methods",
          "Machine Learning/Deep Learning/Feed-Forward<br>Neural Network",
          "Machine Learning/Deep Learning/Gated Recurrent<br>Units",
          "Machine Learning/Traditional Machine Learning/Gaussian<br>Mixture<br>Likelihood<br>Function",
          "Machine Learning/Deep Learning/Long<br>Short-Term<br>Memory<br>Network",
          "Machine Learning/Traditional Machine Learning/Multilayer<br>Perceptron",
          "Machine Learning/Traditional Machine Learning/Random Forest<br>Classifier",
          "Machine Learning/Traditional Machine Learning/Support<br>Vector<br>Machines",
          "Machine Learning/Deep Learning",
          "Machine Learning/Traditional Machine Learning",
          "Machine Learning"
         ],
         "labels": [
          "Bidirectional<br>Long<br>Short-Term<br>Memory Network",
          "Convolutional<br>Neural Network",
          "Ensemble of<br>different<br>Methods",
          "Feed-Forward<br>Neural Network",
          "Gated Recurrent<br>Units",
          "Gaussian<br>Mixture<br>Likelihood<br>Function",
          "Long<br>Short-Term<br>Memory<br>Network",
          "Multilayer<br>Perceptron",
          "Random Forest<br>Classifier",
          "Support<br>Vector<br>Machines",
          "Deep Learning",
          "Traditional Machine Learning",
          "Machine Learning"
         ],
         "marker": {
          "coloraxis": "coloraxis",
          "colors": [
           0.1304,
           0.0435,
           0.087,
           0.0435,
           0.0435,
           0.0435,
           0.0435,
           0.21739999999999998,
           0.21739999999999998,
           0.0435,
           0.08072654402102494,
           0.17391429040735873,
           0.14285170827858085
          ]
         },
         "name": "",
         "parents": [
          "Machine Learning/Deep Learning",
          "Machine Learning/Deep Learning",
          "Machine Learning/Traditional Machine Learning",
          "Machine Learning/Deep Learning",
          "Machine Learning/Deep Learning",
          "Machine Learning/Traditional Machine Learning",
          "Machine Learning/Deep Learning",
          "Machine Learning/Traditional Machine Learning",
          "Machine Learning/Traditional Machine Learning",
          "Machine Learning/Traditional Machine Learning",
          "Machine Learning",
          "Machine Learning",
          ""
         ],
         "textfont": {
          "size": 14
         },
         "textinfo": "label",
         "type": "treemap",
         "values": [
          0.1304,
          0.0435,
          0.087,
          0.0435,
          0.0435,
          0.0435,
          0.0435,
          0.2174,
          0.2174,
          0.0435,
          0.3044,
          0.6088,
          0.9132
         ]
        }
       ],
       "layout": {
        "coloraxis": {
         "cmax": 0.2174,
         "cmin": 0,
         "colorbar": {
          "title": {
           "text": "Percentage"
          }
         },
         "colorscale": [
          [
           0,
           "#ffffcc"
          ],
          [
           0.25,
           "#a1dab4"
          ],
          [
           0.5,
           "#41b6c4"
          ],
          [
           0.75,
           "#2c7fb8"
          ],
          [
           1,
           "#253494"
          ]
         ]
        },
        "legend": {
         "tracegroupgap": 0
        },
        "margin": {
         "t": 60
        },
        "template": {
         "data": {
          "bar": [
           {
            "error_x": {
             "color": "#2a3f5f"
            },
            "error_y": {
             "color": "#2a3f5f"
            },
            "marker": {
             "line": {
              "color": "#E5ECF6",
              "width": 0.5
             },
             "pattern": {
              "fillmode": "overlay",
              "size": 10,
              "solidity": 0.2
             }
            },
            "type": "bar"
           }
          ],
          "barpolar": [
           {
            "marker": {
             "line": {
              "color": "#E5ECF6",
              "width": 0.5
             },
             "pattern": {
              "fillmode": "overlay",
              "size": 10,
              "solidity": 0.2
             }
            },
            "type": "barpolar"
           }
          ],
          "carpet": [
           {
            "aaxis": {
             "endlinecolor": "#2a3f5f",
             "gridcolor": "white",
             "linecolor": "white",
             "minorgridcolor": "white",
             "startlinecolor": "#2a3f5f"
            },
            "baxis": {
             "endlinecolor": "#2a3f5f",
             "gridcolor": "white",
             "linecolor": "white",
             "minorgridcolor": "white",
             "startlinecolor": "#2a3f5f"
            },
            "type": "carpet"
           }
          ],
          "choropleth": [
           {
            "colorbar": {
             "outlinewidth": 0,
             "ticks": ""
            },
            "type": "choropleth"
           }
          ],
          "contour": [
           {
            "colorbar": {
             "outlinewidth": 0,
             "ticks": ""
            },
            "colorscale": [
             [
              0,
              "#0d0887"
             ],
             [
              0.1111111111111111,
              "#46039f"
             ],
             [
              0.2222222222222222,
              "#7201a8"
             ],
             [
              0.3333333333333333,
              "#9c179e"
             ],
             [
              0.4444444444444444,
              "#bd3786"
             ],
             [
              0.5555555555555556,
              "#d8576b"
             ],
             [
              0.6666666666666666,
              "#ed7953"
             ],
             [
              0.7777777777777778,
              "#fb9f3a"
             ],
             [
              0.8888888888888888,
              "#fdca26"
             ],
             [
              1,
              "#f0f921"
             ]
            ],
            "type": "contour"
           }
          ],
          "contourcarpet": [
           {
            "colorbar": {
             "outlinewidth": 0,
             "ticks": ""
            },
            "type": "contourcarpet"
           }
          ],
          "heatmap": [
           {
            "colorbar": {
             "outlinewidth": 0,
             "ticks": ""
            },
            "colorscale": [
             [
              0,
              "#0d0887"
             ],
             [
              0.1111111111111111,
              "#46039f"
             ],
             [
              0.2222222222222222,
              "#7201a8"
             ],
             [
              0.3333333333333333,
              "#9c179e"
             ],
             [
              0.4444444444444444,
              "#bd3786"
             ],
             [
              0.5555555555555556,
              "#d8576b"
             ],
             [
              0.6666666666666666,
              "#ed7953"
             ],
             [
              0.7777777777777778,
              "#fb9f3a"
             ],
             [
              0.8888888888888888,
              "#fdca26"
             ],
             [
              1,
              "#f0f921"
             ]
            ],
            "type": "heatmap"
           }
          ],
          "heatmapgl": [
           {
            "colorbar": {
             "outlinewidth": 0,
             "ticks": ""
            },
            "colorscale": [
             [
              0,
              "#0d0887"
             ],
             [
              0.1111111111111111,
              "#46039f"
             ],
             [
              0.2222222222222222,
              "#7201a8"
             ],
             [
              0.3333333333333333,
              "#9c179e"
             ],
             [
              0.4444444444444444,
              "#bd3786"
             ],
             [
              0.5555555555555556,
              "#d8576b"
             ],
             [
              0.6666666666666666,
              "#ed7953"
             ],
             [
              0.7777777777777778,
              "#fb9f3a"
             ],
             [
              0.8888888888888888,
              "#fdca26"
             ],
             [
              1,
              "#f0f921"
             ]
            ],
            "type": "heatmapgl"
           }
          ],
          "histogram": [
           {
            "marker": {
             "pattern": {
              "fillmode": "overlay",
              "size": 10,
              "solidity": 0.2
             }
            },
            "type": "histogram"
           }
          ],
          "histogram2d": [
           {
            "colorbar": {
             "outlinewidth": 0,
             "ticks": ""
            },
            "colorscale": [
             [
              0,
              "#0d0887"
             ],
             [
              0.1111111111111111,
              "#46039f"
             ],
             [
              0.2222222222222222,
              "#7201a8"
             ],
             [
              0.3333333333333333,
              "#9c179e"
             ],
             [
              0.4444444444444444,
              "#bd3786"
             ],
             [
              0.5555555555555556,
              "#d8576b"
             ],
             [
              0.6666666666666666,
              "#ed7953"
             ],
             [
              0.7777777777777778,
              "#fb9f3a"
             ],
             [
              0.8888888888888888,
              "#fdca26"
             ],
             [
              1,
              "#f0f921"
             ]
            ],
            "type": "histogram2d"
           }
          ],
          "histogram2dcontour": [
           {
            "colorbar": {
             "outlinewidth": 0,
             "ticks": ""
            },
            "colorscale": [
             [
              0,
              "#0d0887"
             ],
             [
              0.1111111111111111,
              "#46039f"
             ],
             [
              0.2222222222222222,
              "#7201a8"
             ],
             [
              0.3333333333333333,
              "#9c179e"
             ],
             [
              0.4444444444444444,
              "#bd3786"
             ],
             [
              0.5555555555555556,
              "#d8576b"
             ],
             [
              0.6666666666666666,
              "#ed7953"
             ],
             [
              0.7777777777777778,
              "#fb9f3a"
             ],
             [
              0.8888888888888888,
              "#fdca26"
             ],
             [
              1,
              "#f0f921"
             ]
            ],
            "type": "histogram2dcontour"
           }
          ],
          "mesh3d": [
           {
            "colorbar": {
             "outlinewidth": 0,
             "ticks": ""
            },
            "type": "mesh3d"
           }
          ],
          "parcoords": [
           {
            "line": {
             "colorbar": {
              "outlinewidth": 0,
              "ticks": ""
             }
            },
            "type": "parcoords"
           }
          ],
          "pie": [
           {
            "automargin": true,
            "type": "pie"
           }
          ],
          "scatter": [
           {
            "fillpattern": {
             "fillmode": "overlay",
             "size": 10,
             "solidity": 0.2
            },
            "type": "scatter"
           }
          ],
          "scatter3d": [
           {
            "line": {
             "colorbar": {
              "outlinewidth": 0,
              "ticks": ""
             }
            },
            "marker": {
             "colorbar": {
              "outlinewidth": 0,
              "ticks": ""
             }
            },
            "type": "scatter3d"
           }
          ],
          "scattercarpet": [
           {
            "marker": {
             "colorbar": {
              "outlinewidth": 0,
              "ticks": ""
             }
            },
            "type": "scattercarpet"
           }
          ],
          "scattergeo": [
           {
            "marker": {
             "colorbar": {
              "outlinewidth": 0,
              "ticks": ""
             }
            },
            "type": "scattergeo"
           }
          ],
          "scattergl": [
           {
            "marker": {
             "colorbar": {
              "outlinewidth": 0,
              "ticks": ""
             }
            },
            "type": "scattergl"
           }
          ],
          "scattermapbox": [
           {
            "marker": {
             "colorbar": {
              "outlinewidth": 0,
              "ticks": ""
             }
            },
            "type": "scattermapbox"
           }
          ],
          "scatterpolar": [
           {
            "marker": {
             "colorbar": {
              "outlinewidth": 0,
              "ticks": ""
             }
            },
            "type": "scatterpolar"
           }
          ],
          "scatterpolargl": [
           {
            "marker": {
             "colorbar": {
              "outlinewidth": 0,
              "ticks": ""
             }
            },
            "type": "scatterpolargl"
           }
          ],
          "scatterternary": [
           {
            "marker": {
             "colorbar": {
              "outlinewidth": 0,
              "ticks": ""
             }
            },
            "type": "scatterternary"
           }
          ],
          "surface": [
           {
            "colorbar": {
             "outlinewidth": 0,
             "ticks": ""
            },
            "colorscale": [
             [
              0,
              "#0d0887"
             ],
             [
              0.1111111111111111,
              "#46039f"
             ],
             [
              0.2222222222222222,
              "#7201a8"
             ],
             [
              0.3333333333333333,
              "#9c179e"
             ],
             [
              0.4444444444444444,
              "#bd3786"
             ],
             [
              0.5555555555555556,
              "#d8576b"
             ],
             [
              0.6666666666666666,
              "#ed7953"
             ],
             [
              0.7777777777777778,
              "#fb9f3a"
             ],
             [
              0.8888888888888888,
              "#fdca26"
             ],
             [
              1,
              "#f0f921"
             ]
            ],
            "type": "surface"
           }
          ],
          "table": [
           {
            "cells": {
             "fill": {
              "color": "#EBF0F8"
             },
             "line": {
              "color": "white"
             }
            },
            "header": {
             "fill": {
              "color": "#C8D4E3"
             },
             "line": {
              "color": "white"
             }
            },
            "type": "table"
           }
          ]
         },
         "layout": {
          "annotationdefaults": {
           "arrowcolor": "#2a3f5f",
           "arrowhead": 0,
           "arrowwidth": 1
          },
          "autotypenumbers": "strict",
          "coloraxis": {
           "colorbar": {
            "outlinewidth": 0,
            "ticks": ""
           }
          },
          "colorscale": {
           "diverging": [
            [
             0,
             "#8e0152"
            ],
            [
             0.1,
             "#c51b7d"
            ],
            [
             0.2,
             "#de77ae"
            ],
            [
             0.3,
             "#f1b6da"
            ],
            [
             0.4,
             "#fde0ef"
            ],
            [
             0.5,
             "#f7f7f7"
            ],
            [
             0.6,
             "#e6f5d0"
            ],
            [
             0.7,
             "#b8e186"
            ],
            [
             0.8,
             "#7fbc41"
            ],
            [
             0.9,
             "#4d9221"
            ],
            [
             1,
             "#276419"
            ]
           ],
           "sequential": [
            [
             0,
             "#0d0887"
            ],
            [
             0.1111111111111111,
             "#46039f"
            ],
            [
             0.2222222222222222,
             "#7201a8"
            ],
            [
             0.3333333333333333,
             "#9c179e"
            ],
            [
             0.4444444444444444,
             "#bd3786"
            ],
            [
             0.5555555555555556,
             "#d8576b"
            ],
            [
             0.6666666666666666,
             "#ed7953"
            ],
            [
             0.7777777777777778,
             "#fb9f3a"
            ],
            [
             0.8888888888888888,
             "#fdca26"
            ],
            [
             1,
             "#f0f921"
            ]
           ],
           "sequentialminus": [
            [
             0,
             "#0d0887"
            ],
            [
             0.1111111111111111,
             "#46039f"
            ],
            [
             0.2222222222222222,
             "#7201a8"
            ],
            [
             0.3333333333333333,
             "#9c179e"
            ],
            [
             0.4444444444444444,
             "#bd3786"
            ],
            [
             0.5555555555555556,
             "#d8576b"
            ],
            [
             0.6666666666666666,
             "#ed7953"
            ],
            [
             0.7777777777777778,
             "#fb9f3a"
            ],
            [
             0.8888888888888888,
             "#fdca26"
            ],
            [
             1,
             "#f0f921"
            ]
           ]
          },
          "colorway": [
           "#636efa",
           "#EF553B",
           "#00cc96",
           "#ab63fa",
           "#FFA15A",
           "#19d3f3",
           "#FF6692",
           "#B6E880",
           "#FF97FF",
           "#FECB52"
          ],
          "font": {
           "color": "#2a3f5f"
          },
          "geo": {
           "bgcolor": "white",
           "lakecolor": "white",
           "landcolor": "#E5ECF6",
           "showlakes": true,
           "showland": true,
           "subunitcolor": "white"
          },
          "hoverlabel": {
           "align": "left"
          },
          "hovermode": "closest",
          "mapbox": {
           "style": "light"
          },
          "paper_bgcolor": "white",
          "plot_bgcolor": "#E5ECF6",
          "polar": {
           "angularaxis": {
            "gridcolor": "white",
            "linecolor": "white",
            "ticks": ""
           },
           "bgcolor": "#E5ECF6",
           "radialaxis": {
            "gridcolor": "white",
            "linecolor": "white",
            "ticks": ""
           }
          },
          "scene": {
           "xaxis": {
            "backgroundcolor": "#E5ECF6",
            "gridcolor": "white",
            "gridwidth": 2,
            "linecolor": "white",
            "showbackground": true,
            "ticks": "",
            "zerolinecolor": "white"
           },
           "yaxis": {
            "backgroundcolor": "#E5ECF6",
            "gridcolor": "white",
            "gridwidth": 2,
            "linecolor": "white",
            "showbackground": true,
            "ticks": "",
            "zerolinecolor": "white"
           },
           "zaxis": {
            "backgroundcolor": "#E5ECF6",
            "gridcolor": "white",
            "gridwidth": 2,
            "linecolor": "white",
            "showbackground": true,
            "ticks": "",
            "zerolinecolor": "white"
           }
          },
          "shapedefaults": {
           "line": {
            "color": "#2a3f5f"
           }
          },
          "ternary": {
           "aaxis": {
            "gridcolor": "white",
            "linecolor": "white",
            "ticks": ""
           },
           "baxis": {
            "gridcolor": "white",
            "linecolor": "white",
            "ticks": ""
           },
           "bgcolor": "#E5ECF6",
           "caxis": {
            "gridcolor": "white",
            "linecolor": "white",
            "ticks": ""
           }
          },
          "title": {
           "x": 0.05
          },
          "xaxis": {
           "automargin": true,
           "gridcolor": "white",
           "linecolor": "white",
           "ticks": "",
           "title": {
            "standoff": 15
           },
           "zerolinecolor": "white",
           "zerolinewidth": 2
          },
          "yaxis": {
           "automargin": true,
           "gridcolor": "white",
           "linecolor": "white",
           "ticks": "",
           "title": {
            "standoff": 15
           },
           "zerolinecolor": "white",
           "zerolinewidth": 2
          }
         }
        }
       }
      }
     },
     "metadata": {},
     "output_type": "display_data"
    }
   ],
   "source": [
    "import plotly.express as px\n",
    "import pandas as pd\n",
    "\n",
    "# Data for the treemap with additional hierarchy\n",
    "data = pd.DataFrame({\n",
    "    'Theme': ['Machine Learning'] * 10,\n",
    "    'Type': [\n",
    "        'Traditional Machine Learning', 'Traditional Machine Learning', 'Traditional Machine Learning', \n",
    "        'Traditional Machine Learning', 'Traditional Machine Learning', \n",
    "        'Deep Learning', 'Deep Learning', 'Deep Learning', 'Deep Learning', 'Deep Learning'\n",
    "    ],\n",
    "    'Category': [\n",
    "        'Random Forest<br>Classifier', 'Multilayer<br>Perceptron', 'Ensemble of<br>different<br>Methods', \n",
    "        'Support<br>Vector<br>Machines', 'Gaussian<br>Mixture<br>Likelihood<br>Function', \n",
    "        'Bidirectional<br>Long<br>Short-Term<br>Memory Network', 'Feed-Forward<br>Neural Network', \n",
    "        'Convolutional<br>Neural Network', 'Gated Recurrent<br>Units', 'Long<br>Short-Term<br>Memory<br>Network'\n",
    "    ],\n",
    "    'Percentage': [\n",
    "        0.2174, 0.2174, 0.087, 0.0435, 0.0435, 0.1304, 0.0435, 0.0435, 0.0435, 0.0435\n",
    "    ]\n",
    "})\n",
    "\n",
    "# Creating the treemap\n",
    "fig = px.treemap(\n",
    "    data,\n",
    "    path=['Theme', 'Type', 'Category'],\n",
    "    values='Percentage',\n",
    "    color='Percentage',\n",
    "    #color_continuous_scale=['#f0f9e8', '#bae4bc', '#7bccc4', '#43a2ca', '#0868ac'],\n",
    "    color_continuous_scale=['#ffffcc', '#a1dab4', '#41b6c4', '#2c7fb8', '#253494'],\n",
    "    range_color=[0, max(data['Percentage'])]\n",
    ")\n",
    "\n",
    "# Update text properties for all traces\n",
    "\n",
    "fig.update_traces(\n",
    "    textinfo='label',\n",
    "    textfont_size=14,\n",
    ")\n",
    "\n",
    "# Display the figure\n",
    "fig.show()\n",
    "\n",
    "#fig.write_image(Path/to/treemap_techniques.svg\")"
   ]
  }
 ],
 "metadata": {
  "kernelspec": {
   "display_name": "vis",
   "language": "python",
   "name": "python3"
  },
  "language_info": {
   "codemirror_mode": {
    "name": "ipython",
    "version": 3
   },
   "file_extension": ".py",
   "mimetype": "text/x-python",
   "name": "python",
   "nbconvert_exporter": "python",
   "pygments_lexer": "ipython3",
   "version": "3.11.5"
  }
 },
 "nbformat": 4,
 "nbformat_minor": 2
}
